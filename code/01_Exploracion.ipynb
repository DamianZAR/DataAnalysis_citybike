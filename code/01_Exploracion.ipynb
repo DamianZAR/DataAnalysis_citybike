{
 "cells": [
  {
   "cell_type": "markdown",
   "id": "0273f0bc",
   "metadata": {},
   "source": [
    "# Exploración de los datos\n",
    "Se hace una inspección del tipo de dato de cada columna de las tres tablas para hacerlas homogéneas.\n",
    "<br> Posteriormente se hace una inspección para entender mejor qué es cada variable.\n",
    "\n",
    "* Nota: Todos los registros son de febrero. "
   ]
  },
  {
   "cell_type": "code",
   "execution_count": 1,
   "id": "2ba1e4b5",
   "metadata": {},
   "outputs": [],
   "source": [
    "import pandas as pd"
   ]
  },
  {
   "cell_type": "markdown",
   "id": "fdcc848d",
   "metadata": {},
   "source": [
    "### Primera tabla: febrero 2020\n",
    "1. ¿Hay valores nulos? **No**\n",
    "2. ¿Qué tipos de datos son las columnas, y qué quieren decir?\n",
    " * **tripduration**: Entero. Tiempo en segundos que duró el viaje\n",
    " * **starttime**: Cadena. Marca de tiempo del inicio del viaje en formato de 24 horas: *aaaa-mm-dd hh:mm:ss.ssss*\n",
    " * **stopttime**: Cadena. Marca de tiempo del fin del viaje en formato de 24 horas: *aaaa-mm-dd hh:mm:ss.ssss*\n",
    " * **start station id**: Entero. Id de la estación de donde se toma la bicicleta\n",
    " * **start station name**: Cadena. Nombre de la estación de donde se toma la bicicleta\n",
    " * **start station latitude**: Flotante. Latitud en coordenada geográfica decimal de la estación donde se toma la bicicleta. No se indica, pero debe ser WGS84.\n",
    " * **start station longitude**: Flotante. Longitud en coordenada geográfica decimal de la estación donde se toma la bicicleta. No se indica, pero debe ser WGS84.\n",
    " * **end station id**: Entero. Id de la estación donde se deja la bicicleta\n",
    " * **end station name**: Cadena. Nombre de la estación de donde se toma la bicicleta\n",
    " * **end station latitude**: Flotante. Latitud en coordenada geográfica decimal de la estación donde se deja la bicicleta. No se indica, pero debe ser WGS84\n",
    " * **end station longitude**: Flotante. Longitud en coordenada geográfica decimal de la estación donde se deja la bicicleta. No se indica, pero debe ser WGS84.\n",
    " * **bikeid**: Entero. Id de la bicicleta que se renta.\n",
    " * **usertype**: Cadena. Uno de dos tipos de usuario: 'Subscriber' para miembros anuales; y 'Customer' para pases de 24 horas o tres días.\n",
    " * **birth year**: Entero. Año de nacimiento del usuario.\n",
    " * **gender**: Entero. Género de la persona bajo la clasificación: (0 = Desconocido, 1 = Hombre, 2 = Mujer)"
   ]
  },
  {
   "cell_type": "code",
   "execution_count": 2,
   "id": "dd2e2f35",
   "metadata": {},
   "outputs": [],
   "source": [
    "jc_2020 = pd.read_csv('citibike//JC-202002-citibike-tripdata.csv')"
   ]
  },
  {
   "cell_type": "code",
   "execution_count": 3,
   "id": "e94f1ddb",
   "metadata": {},
   "outputs": [
    {
     "data": {
      "text/plain": [
       "tripduration               0\n",
       "starttime                  0\n",
       "stoptime                   0\n",
       "start station id           0\n",
       "start station name         0\n",
       "start station latitude     0\n",
       "start station longitude    0\n",
       "end station id             0\n",
       "end station name           0\n",
       "end station latitude       0\n",
       "end station longitude      0\n",
       "bikeid                     0\n",
       "usertype                   0\n",
       "birth year                 0\n",
       "gender                     0\n",
       "dtype: int64"
      ]
     },
     "execution_count": 3,
     "metadata": {},
     "output_type": "execute_result"
    }
   ],
   "source": [
    "jc_2020.isnull().sum()"
   ]
  },
  {
   "cell_type": "code",
   "execution_count": 4,
   "id": "e8f35546",
   "metadata": {},
   "outputs": [
    {
     "data": {
      "text/plain": [
       "tripduration                 int64\n",
       "starttime                   object\n",
       "stoptime                    object\n",
       "start station id             int64\n",
       "start station name          object\n",
       "start station latitude     float64\n",
       "start station longitude    float64\n",
       "end station id               int64\n",
       "end station name            object\n",
       "end station latitude       float64\n",
       "end station longitude      float64\n",
       "bikeid                       int64\n",
       "usertype                    object\n",
       "birth year                   int64\n",
       "gender                       int64\n",
       "dtype: object"
      ]
     },
     "execution_count": 4,
     "metadata": {},
     "output_type": "execute_result"
    }
   ],
   "source": [
    "jc_2020.dtypes"
   ]
  },
  {
   "cell_type": "code",
   "execution_count": 5,
   "id": "ff8bfda7",
   "metadata": {},
   "outputs": [
    {
     "data": {
      "text/plain": [
       "(22962, 15)"
      ]
     },
     "execution_count": 5,
     "metadata": {},
     "output_type": "execute_result"
    }
   ],
   "source": [
    "jc_2020.shape"
   ]
  },
  {
   "cell_type": "markdown",
   "id": "33a1d38e",
   "metadata": {},
   "source": [
    "### Segunda tabla: febrero 2021 \n",
    "1. ¿Hay valores nulos? **Sí.** Hay cuatro columnas relacionadas con la estación donde se deja la bicicleta. Las 4 tienen el mísmo número de elementos nulos. Se sospecha que sólo fueron 68 registros afectados. No se piensa eliminarlas, sólo es una consideración a tener en cuenta más adelante.\n",
    "2. ¿Qué tipos de datos son las columnas, y qué quieren decir?\n",
    " * **ride_id**: Cadena. Identificador conformado por un código cuya nomenclatura no es clara. No tiene columna equivalente con jc_202002.\n",
    " * **rideable_type**: Cadena. Es el tipo de bicicleta. Sólo tiene la etiqueta *docked_bike*. No tiene columna equivalente con jc_202002.\n",
    " * **started_at**: Cadena. Marca de tiempo del inicio del viaje en formato de 24 horas: *aaaa-mm-dd hh:mm:ss*. Equivale a la columna **starttime** de la tabla jc_202002.\n",
    " * **ended_at**: Cadena. Marca de tiempo del fin del viaje en formato de 24 horas: *aaaa-mm-dd hh:mm:ss*. Equivale a la columna **stoptime** de la tabla jc_202002.\n",
    " * **start_station_name**: Cadena. Nombre de la estación de donde se toma la bicicleta. Equivale a la columna **start station name** de la tabla jc_202002.\n",
    " * **start_station_id**: Cadena. Id de la estación de donde se toma la bicicleta. Equivale a la columna **start station id** de la tabla jc_202002, con la excepción que este id tiene *JC* como prefijo, por lo que es cadena.\n",
    " * **end_station_name**: Cadena. Nombre de la estación de donde se toma la bicicleta. Equivale a la columna **end station name** de la tabla jc_202002.\n",
    " * **end_station_id**: Cadena. Id de la estación de donde se toma la bicicleta. Equivale a la columna **end station id** de la tabla jc_202002, con la excepción que este id tiene dos letras *XX* como prefijo, y algunos elementos numéricos (con índices 71, 305, 1852), por lo que es cadena.\n",
    " * **start_lat**: Flotante. Latitud en coordenada geográfica decimal de la estación donde se toma la bicicleta. No se indica, pero debe ser WGS84. Equivale a la columna **start station latitude** de la tabla jc_202002.\n",
    " * **start_lng**: Flotante. Longitud en coordenada geográfica decimal de la estación donde se toma la bicicleta. No se indica, pero debe ser WGS84. Equivale a la columna **start station longitude** de la tabla jc_202002.\n",
    " * **end_lat**: Flotante. Latitud en coordenada geográfica decimal de la estación donde se deja la bicicleta. No se indica, pero debe ser WGS84. Equivale a la columna **end station latitude** de la tabla jc_202002.\n",
    " * **end_lng**: Flotante. Longitud en coordenada geográfica decimal de la estación donde se deja la bicicleta. No se indica, pero debe ser WGS84. Equivale a la columna **end station longitude** de la tabla jc_202002.\n",
    " * **member_casual**: Cadena. Se sospecha que sea uno de dos tipos de usuario: 'member' para miembros anuales; y 'casual' para pases de 24 horas o tres días. Equivale a la columna **usertype** de la tabla jc_202002."
   ]
  },
  {
   "cell_type": "code",
   "execution_count": 6,
   "id": "6a00e931",
   "metadata": {},
   "outputs": [],
   "source": [
    "jc_2021 = pd.read_csv('citibike//JC-202102-citibike-tripdata.csv')"
   ]
  },
  {
   "cell_type": "code",
   "execution_count": 7,
   "id": "f85d6e66",
   "metadata": {},
   "outputs": [
    {
     "data": {
      "text/plain": [
       "ride_id                0\n",
       "rideable_type          0\n",
       "started_at             0\n",
       "ended_at               0\n",
       "start_station_name     0\n",
       "start_station_id       0\n",
       "end_station_name      68\n",
       "end_station_id        68\n",
       "start_lat              0\n",
       "start_lng              0\n",
       "end_lat               68\n",
       "end_lng               68\n",
       "member_casual          0\n",
       "dtype: int64"
      ]
     },
     "execution_count": 7,
     "metadata": {},
     "output_type": "execute_result"
    }
   ],
   "source": [
    "jc_2021.isnull().sum()"
   ]
  },
  {
   "cell_type": "code",
   "execution_count": 8,
   "id": "24a76538",
   "metadata": {},
   "outputs": [
    {
     "data": {
      "text/plain": [
       "ride_id                object\n",
       "rideable_type          object\n",
       "started_at             object\n",
       "ended_at               object\n",
       "start_station_name     object\n",
       "start_station_id       object\n",
       "end_station_name       object\n",
       "end_station_id         object\n",
       "start_lat             float64\n",
       "start_lng             float64\n",
       "end_lat               float64\n",
       "end_lng               float64\n",
       "member_casual          object\n",
       "dtype: object"
      ]
     },
     "execution_count": 8,
     "metadata": {},
     "output_type": "execute_result"
    }
   ],
   "source": [
    "jc_2021.dtypes"
   ]
  },
  {
   "cell_type": "code",
   "execution_count": 9,
   "id": "1860cb5e",
   "metadata": {},
   "outputs": [
    {
     "data": {
      "text/plain": [
       "(4881, 13)"
      ]
     },
     "execution_count": 9,
     "metadata": {},
     "output_type": "execute_result"
    }
   ],
   "source": [
    "jc_2021.shape"
   ]
  },
  {
   "cell_type": "markdown",
   "id": "27323a8a",
   "metadata": {},
   "source": [
    "### Tercera tabla: febrero 2022 \n",
    "1. ¿Hay valores nulos? **Sí.** Hay cuatro columnas relacionadas con la estación donde se deja la bicicleta. **Dos tienen 116 elementos nulos, y las otras dos tienen 75 elementos nulos**. No se piensa eliminarlas, sólo es una consideración a tener en cuenta más adelante.\n",
    "2. ¿Qué tipos de datos son las columnas, y qué quieren decir?\n",
    " * **ride_id**: Cadena. Identificador conformado por un código cuya nomenclatura no es clara. No tiene columna equivalente con jc_202002.\n",
    " * **rideable_type**: Cadena. Es el tipo de bicicleta. Tiene las etiqueta *docked_bike* (157) y *classic_bike* (31,754). No tiene columna equivalente con jc_202002.\n",
    " * **started_at**: Cadena. Marca de tiempo del inicio del viaje en formato de 24 horas: *aaaa-mm-dd hh:mm:ss*. Equivale a la columna **starttime** de la tabla jc_202002.\n",
    " * **ended_at**: Cadena. Marca de tiempo del fin del viaje en formato de 24 horas: *aaaa-mm-dd hh:mm:ss*. Equivale a la columna **stoptime** de la tabla jc_202002.\n",
    " * **start_station_name**: Cadena. Nombre de la estación de donde se toma la bicicleta. Equivale a la columna **start station name** de la tabla jc_202002.\n",
    " * **start_station_id**: Cadena. Id de la estación de donde se toma la bicicleta. Equivale a la columna **start station id** de la tabla jc_202002, con la excepción que este id tiene *XX* como prefijo.\n",
    " * **end_station_name**: Cadena. Nombre de la estación de donde se toma la bicicleta. Equivale a la columna **end station name** de la tabla jc_202002.\n",
    " * **end_station_id**: Cadena. Id de la estación de donde se toma la bicicleta. Equivale a la columna **end station id** de la tabla jc_202002, con la excepción que este id tiene dos letras *XX* como prefijo, y algunos elementos numéricos (con índices 580, 581, 859, 1538, 1623, 3361, 3403, 4238, 5021, 5061, 5277, 5329, 7073, 8286, 8755, 8857, 9116, 9569, 10027, 10475, 13124, 14641, 14645, 14859, 15342, 18910, 20614).\n",
    " * **start_lat**: Flotante. Latitud en coordenada geográfica decimal de la estación donde se toma la bicicleta. No se indica, pero debe ser WGS84. Equivale a la columna **start station latitude** de la tabla jc_202002.\n",
    " * **start_lng**: Flotante. Longitud en coordenada geográfica decimal de la estación donde se toma la bicicleta. No se indica, pero debe ser WGS84. Equivale a la columna **start station longitude** de la tabla jc_202002.\n",
    " * **end_lat**: Flotante. Latitud en coordenada geográfica decimal de la estación donde se deja la bicicleta. No se indica, pero debe ser WGS84. Equivale a la columna **end station latitude** de la tabla jc_202002.\n",
    " * **end_lng**: Flotante. Longitud en coordenada geográfica decimal de la estación donde se deja la bicicleta. No se indica, pero debe ser WGS84. Equivale a la columna **end station longitude** de la tabla jc_202002.\n",
    " * **member_casual**: Cadena. Se sospecha que sea uno de dos tipos de usuario: 'member' para miembros anuales; y 'casual' para pases de 24 horas o tres días. Equivale a la columna **usertype** de la tabla jc_202002."
   ]
  },
  {
   "cell_type": "code",
   "execution_count": 10,
   "id": "be6bde7d",
   "metadata": {},
   "outputs": [],
   "source": [
    "jc_2022 = pd.read_csv('citibike//JC-202202-citibike-tripdata.csv')"
   ]
  },
  {
   "cell_type": "code",
   "execution_count": 11,
   "id": "9cfa8b4a",
   "metadata": {},
   "outputs": [
    {
     "data": {
      "text/plain": [
       "ride_id                 0\n",
       "rideable_type           0\n",
       "started_at              0\n",
       "ended_at                0\n",
       "start_station_name      0\n",
       "start_station_id        0\n",
       "end_station_name      116\n",
       "end_station_id        116\n",
       "start_lat               0\n",
       "start_lng               0\n",
       "end_lat                75\n",
       "end_lng                75\n",
       "member_casual           0\n",
       "dtype: int64"
      ]
     },
     "execution_count": 11,
     "metadata": {},
     "output_type": "execute_result"
    }
   ],
   "source": [
    "jc_2022.isnull().sum()"
   ]
  },
  {
   "cell_type": "code",
   "execution_count": 12,
   "id": "0c85ce99",
   "metadata": {},
   "outputs": [
    {
     "data": {
      "text/plain": [
       "ride_id                object\n",
       "rideable_type          object\n",
       "started_at             object\n",
       "ended_at               object\n",
       "start_station_name     object\n",
       "start_station_id       object\n",
       "end_station_name       object\n",
       "end_station_id         object\n",
       "start_lat             float64\n",
       "start_lng             float64\n",
       "end_lat               float64\n",
       "end_lng               float64\n",
       "member_casual          object\n",
       "dtype: object"
      ]
     },
     "execution_count": 12,
     "metadata": {},
     "output_type": "execute_result"
    }
   ],
   "source": [
    "jc_2022.dtypes"
   ]
  },
  {
   "cell_type": "code",
   "execution_count": 13,
   "id": "ab34ab0f",
   "metadata": {},
   "outputs": [
    {
     "data": {
      "text/plain": [
       "(31911, 13)"
      ]
     },
     "execution_count": 13,
     "metadata": {},
     "output_type": "execute_result"
    }
   ],
   "source": [
    "jc_2022.shape"
   ]
  }
 ],
 "metadata": {
  "kernelspec": {
   "display_name": "Python 3",
   "language": "python",
   "name": "python3"
  },
  "language_info": {
   "codemirror_mode": {
    "name": "ipython",
    "version": 3
   },
   "file_extension": ".py",
   "mimetype": "text/x-python",
   "name": "python",
   "nbconvert_exporter": "python",
   "pygments_lexer": "ipython3",
   "version": "3.8.8"
  }
 },
 "nbformat": 4,
 "nbformat_minor": 5
}
